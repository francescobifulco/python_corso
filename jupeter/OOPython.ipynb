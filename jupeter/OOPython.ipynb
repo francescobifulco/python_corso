{
 "cells": [
  {
   "cell_type": "markdown",
   "id": "452b7305",
   "metadata": {},
   "source": [
    "# Introduzione alla Programmazione ad Oggetti (OOP) in Python\n",
    "\n",
    "## Cos'è l'OOP?\n",
    "\n",
    "La Programmazione ad Oggetti è un paradigma di programmazione che organizza il codice in **oggetti**, ciascuno con **stato** (attributi) e **comportamento** (metodi).\n",
    "\n",
    "### Vantaggi:\n",
    "\n",
    "- Incapsulamento dei dati\n",
    "- Riutilizzabilità del codice\n",
    "- Manutenibilità migliorata\n",
    "- Maggiore chiarezza e modularità\n"
   ]
  },
  {
   "cell_type": "markdown",
   "id": "2eb9ed82",
   "metadata": {},
   "source": [
    "# Concetti Fondamentali\n",
    "\n",
    "## Oggetti e Classi\n",
    "\n",
    "- Una **classe** è uno stampo per creare **oggetti**.\n",
    "- Un **oggetto** è un'istanza di una classe.\n"
   ]
  },
  {
   "cell_type": "code",
   "execution_count": 1,
   "id": "206443b4",
   "metadata": {},
   "outputs": [
    {
     "name": "stdout",
     "output_type": "stream",
     "text": [
      "Fido dice: Bau!\n",
      "Pippo dice: Bau!\n",
      "Labrador\n"
     ]
    }
   ],
   "source": [
    "\n",
    "class Cane: #Classe\n",
    "    razza = ''\n",
    "    \n",
    "    def __init__(self, nome):\n",
    "        self.nome = nome\n",
    "\n",
    "    def abbaia(self):\n",
    "        print(f\"{self.nome} dice: Bau!\")\n",
    "\n",
    "fido = Cane(\"Fido\") #Oggetto\n",
    "pippo = Cane(\"Pippo\")\n",
    "\n",
    "fido.abbaia()  # Output: Fido dice: Bau!\n",
    "pippo.abbaia()\n",
    "\n",
    "fido.razza = 'Labrador'\n",
    "print(fido.razza)"
   ]
  },
  {
   "cell_type": "markdown",
   "id": "e07935ba",
   "metadata": {},
   "source": [
    "# Le Tre Regole Fondamentali dell'OOP\n",
    "\n",
    "## 1. Incapsulamento\n",
    "\n",
    "L'incapsulamento è il principio secondo cui i dettagli interni di una classe (come gli attributi e l'implementazione dei metodi) sono nascosti all'esterno, rendendo accessibili solo interfacce sicure e controllate. Questo permette di proteggere lo stato dell'oggetto da modifiche indesiderate o errate, garantendo che i dati siano manipolati solo attraverso metodi appositi. In Python, si può ottenere incapsulamento utilizzando convenzioni come il doppio underscore (`__`) per rendere gli attributi privati."
   ]
  },
  {
   "cell_type": "code",
   "execution_count": 2,
   "id": "19957708",
   "metadata": {},
   "outputs": [
    {
     "name": "stdout",
     "output_type": "stream",
     "text": [
      "1200\n",
      "2\n"
     ]
    }
   ],
   "source": [
    "class ContoBancario:\n",
    "    \n",
    "    __numero_transizioni = 0\n",
    "    \n",
    "    def __init__(self, saldo):\n",
    "        self.__saldo = saldo\n",
    "        self.__aumenta_numero_transizioni()\n",
    "        \n",
    "    def deposita(self, importo):\n",
    "        self.__saldo += importo\n",
    "        self.__aumenta_numero_transizioni()\n",
    "        \n",
    "    def saldo_corrente(self):\n",
    "        return self.__saldo\n",
    "    \n",
    "    def __aumenta_numero_transizioni(self):\n",
    "        self.__numero_transizioni += 1\n",
    "        \n",
    "    def numero_transizioni_attuali(self):\n",
    "        return self.__numero_transizioni\n",
    "    \n",
    "conto = ContoBancario(1000)\n",
    "\n",
    "conto.deposita(200)\n",
    "\n",
    "print(conto.saldo_corrente())\n",
    "print(conto.numero_transizioni_attuali())\n",
    "\n"
   ]
  },
  {
   "cell_type": "markdown",
   "id": "acf9d090",
   "metadata": {},
   "source": [
    "# 2. Ereditarietà\n",
    "\n",
    "Permette di creare nuove classi riutilizzando le caratteristiche di una classe esistente."
   ]
  },
  {
   "cell_type": "code",
   "execution_count": 3,
   "id": "a2495234",
   "metadata": {},
   "outputs": [
    {
     "name": "stdout",
     "output_type": "stream",
     "text": [
      "Il gatto miagola\n",
      "Il cane abbaia\n"
     ]
    }
   ],
   "source": [
    "class Animale:\n",
    "    def parla(self):\n",
    "        print(\"L'animale emette un suono\")\n",
    "\n",
    "class Gatto(Animale):\n",
    "    def parla(self):\n",
    "        print(\"Il gatto miagola\")\n",
    "        \n",
    "class Cane(Animale):\n",
    "    def parla(self):\n",
    "        print(\"Il cane abbaia\")\n",
    "\n",
    "micio = Gatto()\n",
    "micio.parla()  # Output: Il gatto miagola\n",
    "\n",
    "cane = Cane()\n",
    "cane.parla()"
   ]
  },
  {
   "cell_type": "markdown",
   "id": "a86dcc5b",
   "metadata": {},
   "source": [
    "### Super\n",
    "\n",
    "Richiama la classe genitore della classe in cui è richiamato super."
   ]
  },
  {
   "cell_type": "code",
   "execution_count": 4,
   "id": "f8c08cfa",
   "metadata": {},
   "outputs": [
    {
     "name": "stdout",
     "output_type": "stream",
     "text": [
      "Veicolo di marca Fiat\n",
      "Modello: Panda\n"
     ]
    }
   ],
   "source": [
    "class Veicolo:\n",
    "    def __init__(self, marca):\n",
    "        self.marca = marca\n",
    "\n",
    "    def descrizione(self):\n",
    "        print(f\"Veicolo di marca {self.marca}\")\n",
    "\n",
    "class Auto(Veicolo):\n",
    "    def __init__(self, marca, modello):\n",
    "        super().__init__(marca)  # richiama il costruttore della classe base\n",
    "        self.modello = modello\n",
    "\n",
    "    def descrizione(self):\n",
    "        super().descrizione()  # richiama il metodo della classe base\n",
    "        print(f\"Modello: {self.modello}\")\n",
    "\n",
    "mia_auto = Auto(\"Fiat\", \"Panda\")\n",
    "mia_auto.descrizione()\n",
    "# Output:\n",
    "# Veicolo di marca Fiat\n",
    "# Modello: Panda"
   ]
  },
  {
   "cell_type": "markdown",
   "id": "d22434b8",
   "metadata": {},
   "source": [
    "# 3. Polimorfismo\n",
    "\n",
    "Oggetti di classi diverse possono essere trattati come oggetti della stessa classe base.\n"
   ]
  },
  {
   "cell_type": "code",
   "execution_count": 5,
   "id": "45ec8467",
   "metadata": {},
   "outputs": [
    {
     "name": "stdout",
     "output_type": "stream",
     "text": [
      "Bau\n",
      "Miao\n",
      "Bau\n",
      "Miao\n"
     ]
    }
   ],
   "source": [
    "class Animale:  # Definisce una classe base chiamata Animale\n",
    "    def parla(self):  # Metodo che dovrebbe essere ridefinito dalle sottoclassi\n",
    "        pass  # Non fa nulla (metodo astratto)\n",
    "\n",
    "class Cane(Animale):  # Definisce una sottoclasse di Animale chiamata Cane\n",
    "    def parla(self):  # Ridefinisce il metodo parla\n",
    "        print(\"Bau\")  # Stampa \"Bau\" (verso del cane)\n",
    "\n",
    "class Gatto(Animale):  # Definisce una sottoclasse di Animale chiamata Gatto\n",
    "    def parla(self):  # Ridefinisce il metodo parla\n",
    "        print(\"Miao\")  # Stampa \"Miao\" (verso del gatto)\n",
    "\n",
    "animali = [Cane(), Gatto(), Cane(), Gatto()]  # Crea una lista di oggetti: un Cane e un Gatto\n",
    "for animale in animali:  # Itera su ogni oggetto nella lista\n",
    "    animale.parla()  # Chiama il metodo parla sull'oggetto corrente"
   ]
  },
  {
   "cell_type": "markdown",
   "id": "13bd12c7",
   "metadata": {},
   "source": [
    "# Altri Concetti Importanti\n",
    "\n",
    "### Costruttore (**init**)\n",
    "\n",
    "Metodo chiamato automaticamente alla creazione di un oggetto.\n",
    "\n",
    "### Self\n",
    "\n",
    "Riferimento all'istanza corrente dell'oggetto."
   ]
  },
  {
   "cell_type": "code",
   "execution_count": 6,
   "id": "3db7c661",
   "metadata": {},
   "outputs": [
    {
     "name": "stdout",
     "output_type": "stream",
     "text": [
      "Luca\n",
      "5 3\n",
      "4 1\n",
      "Ciao dal costruttore!\n"
     ]
    }
   ],
   "source": [
    "# Esempio 1: Costruttore con un solo parametro\n",
    "class Persona:\n",
    "    nome = ''\n",
    "    \n",
    "    def __init__(self, nome):\n",
    "        self.nome = nome\n",
    "\n",
    "p = Persona(\"Luca\")\n",
    "print(p.nome)  # Output: Luca\n",
    "\n",
    "# Esempio 2: Costruttore con parametri opzionali\n",
    "class Rettangolo:\n",
    "    def __init__(self, base, altezza=1):\n",
    "        self.base = base\n",
    "        self.altezza = altezza\n",
    "\n",
    "r1 = Rettangolo(5, 3)\n",
    "r2 = Rettangolo(4)\n",
    "print(r1.base, r1.altezza)  # Output: 5 3\n",
    "print(r2.base, r2.altezza)  # Output: 4 1\n",
    "\n",
    "# Esempio 3: Costruttore senza parametri (oltre self)\n",
    "class Saluto:\n",
    "    def __init__(self):\n",
    "        print(\"Ciao dal costruttore!\")\n",
    "\n",
    "s = Saluto()  # Output: Ciao dal costruttore!"
   ]
  },
  {
   "cell_type": "markdown",
   "id": "aa2d0d22",
   "metadata": {},
   "source": [
    "## Attributi di classe vs Attributi di istanza"
   ]
  },
  {
   "cell_type": "markdown",
   "id": "5fab48f6",
   "metadata": {},
   "source": [
    "- **Attributo di classe**: è condiviso da tutte le istanze della classe. Viene definito direttamente nella classe e non nel metodo `__init__`. Se modificato, il cambiamento si riflette su tutte le istanze (a meno che non venga sovrascritto a livello di istanza).\n",
    "\n",
    "- **Attributo di istanza**: è specifico di ogni oggetto creato dalla classe. Viene definito all'interno del metodo `__init__` usando `self`. Ogni istanza può avere valori diversi per questi attributi."
   ]
  },
  {
   "cell_type": "code",
   "execution_count": 7,
   "id": "28aae536",
   "metadata": {},
   "outputs": [
    {
     "name": "stdout",
     "output_type": "stream",
     "text": [
      "4 Fiat\n",
      "\n",
      "POST: a1.numero_ruote += 1\n",
      "A1 n. ruote:  5\n",
      "A2 n. ruote:  5\n",
      "\n",
      "POST: Auto.numero_ruote += 2\n",
      "A1 n. ruote:  5\n",
      "A2 n. ruote:  5\n"
     ]
    }
   ],
   "source": [
    "class Auto:\n",
    "    numero_ruote = 4  # attributo di classe\n",
    "\n",
    "    def __init__(self, marca):\n",
    "        self.marca = marca  # attributo di istanza\n",
    "\n",
    "a1 = Auto(\"Fiat\")\n",
    "a2 = Auto(\"Audi\")\n",
    "\n",
    "print(a1.numero_ruote, a1.marca)  # Output: 4 Fiat\n",
    "\n",
    "a1.numero_ruote += 1\n",
    "a2.numero_ruote += 1\n",
    "\n",
    "print(\"\\nPOST: a1.numero_ruote += 1\")\n",
    "print(\"A1 n. ruote: \" , a1.numero_ruote)\n",
    "print(\"A2 n. ruote: \" , a2.numero_ruote)\n",
    "\n",
    "Auto.numero_ruote += 2\n",
    "\n",
    "print(\"\\nPOST: Auto.numero_ruote += 2\")\n",
    "print(\"A1 n. ruote: \" , a1.numero_ruote)\n",
    "print(\"A2 n. ruote: \" , a2.numero_ruote)"
   ]
  },
  {
   "cell_type": "markdown",
   "id": "e1c30119",
   "metadata": {},
   "source": [
    "# Esercizi"
   ]
  },
  {
   "cell_type": "markdown",
   "id": "2f592c72",
   "metadata": {},
   "source": [
    "1. Creare un sistema che gestisca una biblioteca con classi Libro, Utente e Biblioteca. \n",
    "    - Ogni utente può prendere in prestito uno o più libri. \n",
    "    - Implementare metodi per aggiungere libri, registrare utenti e gestire prestiti.\n",
    "2. Creare una classe base Veicolo con attributi comuni come marca e modello, e un metodo sposta(). \n",
    "    - Derivare classi Auto e Bicicletta, ognuna con attributi specifici (es. cilindrata, tipo_pedali) e comportamenti sovrascritti. \n",
    "    - Implementare anche un sistema che conta i chilometri percorsi e li aggiorna.\n",
    "3. Crea un piccolo sistema di gestione per uno zoo, dove ogni animale ha comportamenti differenti ma è gestito con le stessa classe padre. \n",
    "    - Tutti gli animali hanno un Nome;\n",
    "    - Crea anche la classe zoo che gestisce l'aggiunta e la rimozione di animali."
   ]
  }
 ],
 "metadata": {
  "kernelspec": {
   "display_name": "Python 3",
   "language": "python",
   "name": "python3"
  },
  "language_info": {
   "codemirror_mode": {
    "name": "ipython",
    "version": 3
   },
   "file_extension": ".py",
   "mimetype": "text/x-python",
   "name": "python",
   "nbconvert_exporter": "python",
   "pygments_lexer": "ipython3",
   "version": "3.11.9"
  }
 },
 "nbformat": 4,
 "nbformat_minor": 5
}
