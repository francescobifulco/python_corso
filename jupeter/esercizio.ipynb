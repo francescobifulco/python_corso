{
 "cells": [
  {
   "cell_type": "code",
   "execution_count": null,
   "id": "b42bd005",
   "metadata": {},
   "outputs": [],
   "source": [
    "#Chiedi all'utente il suo nome e la sua età. Stampa un messaggio di benvenuto che includa il nome e l'età dell'utente, ad esempio: \"Benvenuto [Nome], hai [Età] anni!\".\n",
    "nome = str(input(\"inserisci il nome: \"))\n",
    "eta = int(input(\"inserisci eta: \"))\n",
    "print(f\"Benvenuto {nome}, hai {eta} anni!\")"
   ]
  },
  {
   "cell_type": "code",
   "execution_count": 3,
   "id": "b093d634",
   "metadata": {},
   "outputs": [
    {
     "name": "stdout",
     "output_type": "stream",
     "text": [
      "Ora corrente: 2025-07-08 16:15:43.211479\n"
     ]
    }
   ],
   "source": [
    "#Stampa la data e l'ora attuali utilizzando un modulo appropriato\n",
    "from datetime import datetime\n",
    "ora_corrente = datetime.now()\n",
    "print(\"Ora corrente:\", ora_corrente)"
   ]
  },
  {
   "cell_type": "code",
   "execution_count": null,
   "id": "f2c64bda",
   "metadata": {},
   "outputs": [],
   "source": [
    "#Crea due variabili numeriche, num1 e num2. Calcola la loro somma, differenza, prodotto e quoziente intero. Stampa tutti i risultati.\n",
    "num1 = int(input(\"inserisci il numero: \"))\n",
    "num2 = int(input(\"inserisci il numero: \"))\n",
    "\n",
    "somma = num1+num2\n",
    "differenza = num1-num2\n",
    "prodotto = num1*num2\n",
    "quoziente_intero = num1//num2\n",
    "print(f\"la somma e {somma}, la differenza e {differenza}, il prodotto e {prodotto}, il quoziente per intero e {quoziente_intero}\")"
   ]
  }
 ],
 "metadata": {
  "kernelspec": {
   "display_name": "Python 3",
   "language": "python",
   "name": "python3"
  },
  "language_info": {
   "codemirror_mode": {
    "name": "ipython",
    "version": 3
   },
   "file_extension": ".py",
   "mimetype": "text/x-python",
   "name": "python",
   "nbconvert_exporter": "python",
   "pygments_lexer": "ipython3",
   "version": "3.11.9"
  }
 },
 "nbformat": 4,
 "nbformat_minor": 5
}
