{
 "cells": [
  {
   "cell_type": "code",
   "execution_count": 1,
   "id": "64f4e60a",
   "metadata": {},
   "outputs": [
    {
     "name": "stdout",
     "output_type": "stream",
     "text": [
      "Ciao, mondo!\n"
     ]
    }
   ],
   "source": [
    "#Scrivi un programma che stampi \"Ciao, mondo!\" sulla console.\n",
    "print('Ciao, mondo!')"
   ]
  },
  {
   "cell_type": "code",
   "execution_count": 2,
   "id": "c53d506c",
   "metadata": {},
   "outputs": [
    {
     "data": {
      "text/plain": [
       "8"
      ]
     },
     "execution_count": 2,
     "metadata": {},
     "output_type": "execute_result"
    }
   ],
   "source": [
    "#Stampa il risultato della somma di 5 e 3.\n",
    "somma = 5 + 3\n",
    "somma"
   ]
  },
  {
   "cell_type": "code",
   "execution_count": 4,
   "id": "963f0348",
   "metadata": {},
   "outputs": [
    {
     "name": "stdout",
     "output_type": "stream",
     "text": [
      "francesco\n",
      "bif\n"
     ]
    }
   ],
   "source": [
    "#Usa più istruzioni print() \n",
    "#per stampare il tuo nome e cognome su due righe diverse.\n",
    "print('francesco')\n",
    "print('bif')"
   ]
  },
  {
   "cell_type": "code",
   "execution_count": 5,
   "id": "19782f59",
   "metadata": {},
   "outputs": [
    {
     "data": {
      "text/plain": [
       "'franco'"
      ]
     },
     "execution_count": 5,
     "metadata": {},
     "output_type": "execute_result"
    }
   ],
   "source": [
    "#Chiedi all'utente il suo nome e stampalo con un\n",
    "#messaggio di benvenuto.\n",
    "nome = str(input('inserisci il tuo nome: '))\n",
    "nome"
   ]
  },
  {
   "cell_type": "code",
   "execution_count": 6,
   "id": "711ec5b8",
   "metadata": {},
   "outputs": [
    {
     "data": {
      "text/plain": [
       "11"
      ]
     },
     "execution_count": 6,
     "metadata": {},
     "output_type": "execute_result"
    }
   ],
   "source": [
    "#Richiedi due numeri all'utente, convertili in numeri \n",
    "#interi e stampane la somma.\n",
    "num1 = int(input('inserisci un numero: '))\n",
    "num2 = int(input('inserisci un numero: '))\n",
    "somma = num1 + num2\n",
    "somma"
   ]
  },
  {
   "cell_type": "code",
   "execution_count": 7,
   "id": "efd480fd",
   "metadata": {},
   "outputs": [
    {
     "data": {
      "text/plain": [
       "84"
      ]
     },
     "execution_count": 7,
     "metadata": {},
     "output_type": "execute_result"
    }
   ],
   "source": [
    "#Calcola e stampa il prodotto di 12 e 7.\n",
    "prodotto = 12 * 7\n",
    "prodotto"
   ]
  },
  {
   "cell_type": "code",
   "execution_count": 9,
   "id": "6ea8fc58",
   "metadata": {},
   "outputs": [
    {
     "data": {
      "text/plain": [
       "1"
      ]
     },
     "execution_count": 9,
     "metadata": {},
     "output_type": "execute_result"
    }
   ],
   "source": [
    "#Determina il resto della divisione di 25 per 4.\n",
    "resto = 25 % 4\n",
    "resto"
   ]
  },
  {
   "cell_type": "code",
   "execution_count": 10,
   "id": "98fe4592",
   "metadata": {},
   "outputs": [
    {
     "data": {
      "text/plain": [
       "50"
      ]
     },
     "execution_count": 10,
     "metadata": {},
     "output_type": "execute_result"
    }
   ],
   "source": [
    "#Calcola l'area di un rettangolo con base 10 e altezza 5.\n",
    "area = 10 * 5\n",
    "area"
   ]
  },
  {
   "cell_type": "code",
   "execution_count": 12,
   "id": "f70847d2",
   "metadata": {},
   "outputs": [
    {
     "name": "stdout",
     "output_type": "stream",
     "text": [
      "il tuo nome e \"francesco\", e la tua eta \"24\"\n"
     ]
    }
   ],
   "source": [
    "#Assegna il tuo nome a una variabile chiamata nome e la\n",
    "#tua età a una variabile chiamata eta. Stampa entrambe le \n",
    "#variabili.\n",
    "nome = 'francesco'\n",
    "eta = 24\n",
    "print(f'il tuo nome e \"{nome}\", e la tua eta \"{eta}\"')"
   ]
  },
  {
   "cell_type": "code",
   "execution_count": 15,
   "id": "278b23a8",
   "metadata": {},
   "outputs": [
    {
     "name": "stdout",
     "output_type": "stream",
     "text": [
      "a: 5\n",
      "b: 7\n"
     ]
    }
   ],
   "source": [
    "#Scambia i valori di due variabili, a e b, \n",
    "#senza usare una variabile temporanea.\n",
    "a = 7\n",
    "b = 5\n",
    "a, b = b, a\n",
    "\n",
    "print(\"a:\", a) \n",
    "print(\"b:\", b)"
   ]
  },
  {
   "cell_type": "code",
   "execution_count": 20,
   "id": "af4cc694",
   "metadata": {},
   "outputs": [
    {
     "name": "stdout",
     "output_type": "stream",
     "text": [
      "<class 'int'>\n",
      "<class 'float'>\n",
      "<class 'str'>\n",
      "<class 'bool'>\n"
     ]
    }
   ],
   "source": [
    "#Dichiara una variabile intera, una float, una stringa e una \n",
    "#booleana. Stampa il tipo di ciascuna variabile usando la \n",
    "#funzione type().\n",
    "numero = 12\n",
    "virgola = 8.9\n",
    "testo = 'ciao a tutti'\n",
    "boole = False\n",
    "\n",
    "print(type(numero))\n",
    "print(type(virgola))\n",
    "print(type(testo))\n",
    "print(type(boole))"
   ]
  },
  {
   "cell_type": "code",
   "execution_count": 22,
   "id": "e7c81ad3",
   "metadata": {},
   "outputs": [
    {
     "name": "stdout",
     "output_type": "stream",
     "text": [
      "<class 'int'>\n",
      "<class 'str'>\n"
     ]
    }
   ],
   "source": [
    "#Converti la stringa \"123\" in un intero e l'intero 456 in una \n",
    "#stringa.\n",
    "testo = '123'\n",
    "numero = 456\n",
    "\n",
    "testo_ = int(testo)\n",
    "numero_ = str(numero)\n",
    "\n",
    "print(type(testo_))\n",
    "print(type(numero_))"
   ]
  },
  {
   "cell_type": "code",
   "execution_count": 26,
   "id": "f8e743f0",
   "metadata": {},
   "outputs": [
    {
     "data": {
      "text/plain": [
       "'Python'"
      ]
     },
     "execution_count": 26,
     "metadata": {},
     "output_type": "execute_result"
    }
   ],
   "source": [
    "#Dato il testo \"Python è un linguaggio di programmazione \n",
    "#potente.\", estrai la parola \"Python\".\n",
    "testo = 'Python è Un Linguaggio Di PrograMmazionE Potente.'\n",
    "estrai = testo[:6]\n",
    "estrai\n"
   ]
  },
  {
   "cell_type": "code",
   "execution_count": 28,
   "id": "b13e4889",
   "metadata": {},
   "outputs": [
    {
     "name": "stdout",
     "output_type": "stream",
     "text": [
      "maiuscolo: PYTHON È UN LINGUAGGIO DI PROGRAMMAZIONE POTENTE.\n",
      "minuscolo: python è un linguaggio di programmazione potente.\n"
     ]
    }
   ],
   "source": [
    "#Converti una stringa in maiuscolo e poi in minuscolo.\n",
    "print(f'maiuscolo: {testo.upper()}')\n",
    "print(f'minuscolo: {testo.lower()}')"
   ]
  },
  {
   "cell_type": "code",
   "execution_count": 31,
   "id": "c4ee0dde",
   "metadata": {},
   "outputs": [
    {
     "name": "stdout",
     "output_type": "stream",
     "text": [
      "True\n",
      "False\n"
     ]
    }
   ],
   "source": [
    "#Controlla se una stringa inizia con \"Ciao\" o finisce \n",
    "#con \"mondo\".\n",
    "stringa = 'ciao a tutti come stata'\n",
    "print(stringa.startswith('ciao'))\n",
    "print(stringa.endswith('mondo'))"
   ]
  },
  {
   "cell_type": "code",
   "execution_count": 33,
   "id": "9f18a374",
   "metadata": {},
   "outputs": [
    {
     "name": "stdout",
     "output_type": "stream",
     "text": [
      "li sta di numeri [1, 2, 3, 4, 5]\n",
      "li sta di numeri [1, 2, 3, 4, 5, 6] aggiornati\n",
      "li sta di numeri [1, 2, 4, 5, 6] aggiornati\n"
     ]
    }
   ],
   "source": [
    "#Crea una lista di numeri da 1 a 5. Aggiungi il numero 6 e \n",
    "#rimuovi il numero 3.\n",
    "numero = [1,2,3,4,5]\n",
    "print(f'li sta di numeri {numero}')\n",
    "numero.append(6)\n",
    "print(f'li sta di numeri {numero} aggiornati')\n",
    "numero.remove(3)\n",
    "print(f'li sta di numeri {numero} aggiornati')"
   ]
  }
 ],
 "metadata": {
  "kernelspec": {
   "display_name": "Python 3",
   "language": "python",
   "name": "python3"
  },
  "language_info": {
   "codemirror_mode": {
    "name": "ipython",
    "version": 3
   },
   "file_extension": ".py",
   "mimetype": "text/x-python",
   "name": "python",
   "nbconvert_exporter": "python",
   "pygments_lexer": "ipython3",
   "version": "3.11.9"
  }
 },
 "nbformat": 4,
 "nbformat_minor": 5
}
