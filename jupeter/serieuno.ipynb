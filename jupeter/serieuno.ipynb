{
 "cells": [
  {
   "cell_type": "code",
   "execution_count": 1,
   "id": "64f4e60a",
   "metadata": {},
   "outputs": [
    {
     "name": "stdout",
     "output_type": "stream",
     "text": [
      "Ciao, mondo!\n"
     ]
    }
   ],
   "source": [
    "#Scrivi un programma che stampi \"Ciao, mondo!\" sulla console.\n",
    "print('Ciao, mondo!')"
   ]
  },
  {
   "cell_type": "code",
   "execution_count": 2,
   "id": "c53d506c",
   "metadata": {},
   "outputs": [
    {
     "data": {
      "text/plain": [
       "8"
      ]
     },
     "execution_count": 2,
     "metadata": {},
     "output_type": "execute_result"
    }
   ],
   "source": [
    "#Stampa il risultato della somma di 5 e 3.\n",
    "somma = 5 + 3\n",
    "somma"
   ]
  },
  {
   "cell_type": "code",
   "execution_count": 4,
   "id": "963f0348",
   "metadata": {},
   "outputs": [
    {
     "name": "stdout",
     "output_type": "stream",
     "text": [
      "francesco\n",
      "bif\n"
     ]
    }
   ],
   "source": [
    "#Usa più istruzioni print() \n",
    "#per stampare il tuo nome e cognome su due righe diverse.\n",
    "print('francesco')\n",
    "print('bif')"
   ]
  },
  {
   "cell_type": "code",
   "execution_count": 5,
   "id": "19782f59",
   "metadata": {},
   "outputs": [
    {
     "data": {
      "text/plain": [
       "'franco'"
      ]
     },
     "execution_count": 5,
     "metadata": {},
     "output_type": "execute_result"
    }
   ],
   "source": [
    "#Chiedi all'utente il suo nome e stampalo con un\n",
    "#messaggio di benvenuto.\n",
    "nome = str(input('inserisci il tuo nome: '))\n",
    "nome"
   ]
  },
  {
   "cell_type": "code",
   "execution_count": 6,
   "id": "711ec5b8",
   "metadata": {},
   "outputs": [
    {
     "data": {
      "text/plain": [
       "11"
      ]
     },
     "execution_count": 6,
     "metadata": {},
     "output_type": "execute_result"
    }
   ],
   "source": [
    "#Richiedi due numeri all'utente, convertili in numeri \n",
    "#interi e stampane la somma.\n",
    "num1 = int(input('inserisci un numero: '))\n",
    "num2 = int(input('inserisci un numero: '))\n",
    "somma = num1 + num2\n",
    "somma"
   ]
  },
  {
   "cell_type": "code",
   "execution_count": 7,
   "id": "efd480fd",
   "metadata": {},
   "outputs": [
    {
     "data": {
      "text/plain": [
       "84"
      ]
     },
     "execution_count": 7,
     "metadata": {},
     "output_type": "execute_result"
    }
   ],
   "source": [
    "#Calcola e stampa il prodotto di 12 e 7.\n",
    "prodotto = 12 * 7\n",
    "prodotto"
   ]
  },
  {
   "cell_type": "code",
   "execution_count": 9,
   "id": "6ea8fc58",
   "metadata": {},
   "outputs": [
    {
     "data": {
      "text/plain": [
       "1"
      ]
     },
     "execution_count": 9,
     "metadata": {},
     "output_type": "execute_result"
    }
   ],
   "source": [
    "#Determina il resto della divisione di 25 per 4.\n",
    "resto = 25 % 4\n",
    "resto"
   ]
  },
  {
   "cell_type": "code",
   "execution_count": 10,
   "id": "98fe4592",
   "metadata": {},
   "outputs": [
    {
     "data": {
      "text/plain": [
       "50"
      ]
     },
     "execution_count": 10,
     "metadata": {},
     "output_type": "execute_result"
    }
   ],
   "source": [
    "#Calcola l'area di un rettangolo con base 10 e altezza 5.\n",
    "area = 10 * 5\n",
    "area"
   ]
  },
  {
   "cell_type": "code",
   "execution_count": 12,
   "id": "f70847d2",
   "metadata": {},
   "outputs": [
    {
     "name": "stdout",
     "output_type": "stream",
     "text": [
      "il tuo nome e \"francesco\", e la tua eta \"24\"\n"
     ]
    }
   ],
   "source": [
    "#Assegna il tuo nome a una variabile chiamata nome e la\n",
    "#tua età a una variabile chiamata eta. Stampa entrambe le \n",
    "#variabili.\n",
    "nome = 'francesco'\n",
    "eta = 24\n",
    "print(f'il tuo nome e \"{nome}\", e la tua eta \"{eta}\"')"
   ]
  },
  {
   "cell_type": "code",
   "execution_count": 14,
   "id": "278b23a8",
   "metadata": {},
   "outputs": [
    {
     "data": {
      "text/plain": [
       "5"
      ]
     },
     "execution_count": 14,
     "metadata": {},
     "output_type": "execute_result"
    }
   ],
   "source": [
    "#Scambia i valori di due variabili, a e b, \n",
    "#senza usare una variabile temporanea.\n",
    "a = 7\n",
    "b = 5\n",
    "a = b\n",
    "a"
   ]
  }
 ],
 "metadata": {
  "kernelspec": {
   "display_name": "Python 3",
   "language": "python",
   "name": "python3"
  },
  "language_info": {
   "codemirror_mode": {
    "name": "ipython",
    "version": 3
   },
   "file_extension": ".py",
   "mimetype": "text/x-python",
   "name": "python",
   "nbconvert_exporter": "python",
   "pygments_lexer": "ipython3",
   "version": "3.11.9"
  }
 },
 "nbformat": 4,
 "nbformat_minor": 5
}
