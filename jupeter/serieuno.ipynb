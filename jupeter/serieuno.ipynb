{
 "cells": [
  {
   "cell_type": "code",
   "execution_count": 1,
   "id": "64f4e60a",
   "metadata": {},
   "outputs": [
    {
     "name": "stdout",
     "output_type": "stream",
     "text": [
      "Ciao, mondo!\n"
     ]
    }
   ],
   "source": [
    "#Scrivi un programma che stampi \"Ciao, mondo!\" sulla console.\n",
    "print('Ciao, mondo!')"
   ]
  },
  {
   "cell_type": "code",
   "execution_count": 2,
   "id": "c53d506c",
   "metadata": {},
   "outputs": [
    {
     "data": {
      "text/plain": [
       "8"
      ]
     },
     "execution_count": 2,
     "metadata": {},
     "output_type": "execute_result"
    }
   ],
   "source": [
    "#Stampa il risultato della somma di 5 e 3.\n",
    "somma = 5 + 3\n",
    "somma"
   ]
  },
  {
   "cell_type": "code",
   "execution_count": 4,
   "id": "963f0348",
   "metadata": {},
   "outputs": [
    {
     "name": "stdout",
     "output_type": "stream",
     "text": [
      "francesco\n",
      "bif\n"
     ]
    }
   ],
   "source": [
    "#Usa più istruzioni print() \n",
    "#per stampare il tuo nome e cognome su due righe diverse.\n",
    "print('francesco')\n",
    "print('bif')"
   ]
  },
  {
   "cell_type": "code",
   "execution_count": 5,
   "id": "19782f59",
   "metadata": {},
   "outputs": [
    {
     "data": {
      "text/plain": [
       "'franco'"
      ]
     },
     "execution_count": 5,
     "metadata": {},
     "output_type": "execute_result"
    }
   ],
   "source": [
    "#Chiedi all'utente il suo nome e stampalo con un\n",
    "#messaggio di benvenuto.\n",
    "nome = str(input('inserisci il tuo nome: '))\n",
    "nome"
   ]
  },
  {
   "cell_type": "code",
   "execution_count": 6,
   "id": "711ec5b8",
   "metadata": {},
   "outputs": [
    {
     "data": {
      "text/plain": [
       "11"
      ]
     },
     "execution_count": 6,
     "metadata": {},
     "output_type": "execute_result"
    }
   ],
   "source": [
    "#Richiedi due numeri all'utente, convertili in numeri \n",
    "#interi e stampane la somma.\n",
    "num1 = int(input('inserisci un numero: '))\n",
    "num2 = int(input('inserisci un numero: '))\n",
    "somma = num1 + num2\n",
    "somma"
   ]
  },
  {
   "cell_type": "code",
   "execution_count": 7,
   "id": "efd480fd",
   "metadata": {},
   "outputs": [
    {
     "data": {
      "text/plain": [
       "84"
      ]
     },
     "execution_count": 7,
     "metadata": {},
     "output_type": "execute_result"
    }
   ],
   "source": [
    "#Calcola e stampa il prodotto di 12 e 7.\n",
    "prodotto = 12 * 7\n",
    "prodotto"
   ]
  },
  {
   "cell_type": "code",
   "execution_count": 9,
   "id": "6ea8fc58",
   "metadata": {},
   "outputs": [
    {
     "data": {
      "text/plain": [
       "1"
      ]
     },
     "execution_count": 9,
     "metadata": {},
     "output_type": "execute_result"
    }
   ],
   "source": [
    "#Determina il resto della divisione di 25 per 4.\n",
    "resto = 25 % 4\n",
    "resto"
   ]
  },
  {
   "cell_type": "code",
   "execution_count": 10,
   "id": "98fe4592",
   "metadata": {},
   "outputs": [
    {
     "data": {
      "text/plain": [
       "50"
      ]
     },
     "execution_count": 10,
     "metadata": {},
     "output_type": "execute_result"
    }
   ],
   "source": [
    "#Calcola l'area di un rettangolo con base 10 e altezza 5.\n",
    "area = 10 * 5\n",
    "area"
   ]
  },
  {
   "cell_type": "code",
   "execution_count": 12,
   "id": "f70847d2",
   "metadata": {},
   "outputs": [
    {
     "name": "stdout",
     "output_type": "stream",
     "text": [
      "il tuo nome e \"francesco\", e la tua eta \"24\"\n"
     ]
    }
   ],
   "source": [
    "#Assegna il tuo nome a una variabile chiamata nome e la\n",
    "#tua età a una variabile chiamata eta. Stampa entrambe le \n",
    "#variabili.\n",
    "nome = 'francesco'\n",
    "eta = 24\n",
    "print(f'il tuo nome e \"{nome}\", e la tua eta \"{eta}\"')"
   ]
  },
  {
   "cell_type": "code",
   "execution_count": 15,
   "id": "278b23a8",
   "metadata": {},
   "outputs": [
    {
     "name": "stdout",
     "output_type": "stream",
     "text": [
      "a: 5\n",
      "b: 7\n"
     ]
    }
   ],
   "source": [
    "#Scambia i valori di due variabili, a e b, \n",
    "#senza usare una variabile temporanea.\n",
    "a = 7\n",
    "b = 5\n",
    "a, b = b, a\n",
    "\n",
    "print(\"a:\", a) \n",
    "print(\"b:\", b)"
   ]
  },
  {
   "cell_type": "code",
   "execution_count": 20,
   "id": "af4cc694",
   "metadata": {},
   "outputs": [
    {
     "name": "stdout",
     "output_type": "stream",
     "text": [
      "<class 'int'>\n",
      "<class 'float'>\n",
      "<class 'str'>\n",
      "<class 'bool'>\n"
     ]
    }
   ],
   "source": [
    "#Dichiara una variabile intera, una float, una stringa e una \n",
    "#booleana. Stampa il tipo di ciascuna variabile usando la \n",
    "#funzione type().\n",
    "numero = 12\n",
    "virgola = 8.9\n",
    "testo = 'ciao a tutti'\n",
    "boole = False\n",
    "\n",
    "print(type(numero))\n",
    "print(type(virgola))\n",
    "print(type(testo))\n",
    "print(type(boole))"
   ]
  },
  {
   "cell_type": "code",
   "execution_count": 22,
   "id": "e7c81ad3",
   "metadata": {},
   "outputs": [
    {
     "name": "stdout",
     "output_type": "stream",
     "text": [
      "<class 'int'>\n",
      "<class 'str'>\n"
     ]
    }
   ],
   "source": [
    "#Converti la stringa \"123\" in un intero e l'intero 456 in una \n",
    "#stringa.\n",
    "testo = '123'\n",
    "numero = 456\n",
    "\n",
    "testo_ = int(testo)\n",
    "numero_ = str(numero)\n",
    "\n",
    "print(type(testo_))\n",
    "print(type(numero_))"
   ]
  },
  {
   "cell_type": "code",
   "execution_count": 26,
   "id": "f8e743f0",
   "metadata": {},
   "outputs": [
    {
     "data": {
      "text/plain": [
       "'Python'"
      ]
     },
     "execution_count": 26,
     "metadata": {},
     "output_type": "execute_result"
    }
   ],
   "source": [
    "#Dato il testo \"Python è un linguaggio di programmazione \n",
    "#potente.\", estrai la parola \"Python\".\n",
    "testo = 'Python è Un Linguaggio Di PrograMmazionE Potente.'\n",
    "estrai = testo[:6]\n",
    "estrai\n"
   ]
  },
  {
   "cell_type": "code",
   "execution_count": 28,
   "id": "b13e4889",
   "metadata": {},
   "outputs": [
    {
     "name": "stdout",
     "output_type": "stream",
     "text": [
      "maiuscolo: PYTHON È UN LINGUAGGIO DI PROGRAMMAZIONE POTENTE.\n",
      "minuscolo: python è un linguaggio di programmazione potente.\n"
     ]
    }
   ],
   "source": [
    "#Converti una stringa in maiuscolo e poi in minuscolo.\n",
    "print(f'maiuscolo: {testo.upper()}')\n",
    "print(f'minuscolo: {testo.lower()}')"
   ]
  },
  {
   "cell_type": "code",
   "execution_count": 31,
   "id": "c4ee0dde",
   "metadata": {},
   "outputs": [
    {
     "name": "stdout",
     "output_type": "stream",
     "text": [
      "True\n",
      "False\n"
     ]
    }
   ],
   "source": [
    "#Controlla se una stringa inizia con \"Ciao\" o finisce \n",
    "#con \"mondo\".\n",
    "stringa = 'ciao a tutti come stata'\n",
    "print(stringa.startswith('ciao'))\n",
    "print(stringa.endswith('mondo'))"
   ]
  },
  {
   "cell_type": "code",
   "execution_count": 33,
   "id": "9f18a374",
   "metadata": {},
   "outputs": [
    {
     "name": "stdout",
     "output_type": "stream",
     "text": [
      "li sta di numeri [1, 2, 3, 4, 5]\n",
      "li sta di numeri [1, 2, 3, 4, 5, 6] aggiornati\n",
      "li sta di numeri [1, 2, 4, 5, 6] aggiornati\n"
     ]
    }
   ],
   "source": [
    "#Crea una lista di numeri da 1 a 5. Aggiungi il numero 6 e \n",
    "#rimuovi il numero 3.\n",
    "numero = [1,2,3,4,5]\n",
    "print(f'li sta di numeri {numero}')\n",
    "numero.append(6)\n",
    "print(f'li sta di numeri {numero} aggiornati')\n",
    "numero.remove(3)\n",
    "print(f'li sta di numeri {numero} aggiornati')"
   ]
  },
  {
   "cell_type": "code",
   "execution_count": 2,
   "id": "d4127058",
   "metadata": {},
   "outputs": [
    {
     "name": "stdout",
     "output_type": "stream",
     "text": [
      "una lista di nomi ['Alessandro', 'Giulia', 'Luca', 'Sofia', 'Marco', 'Francesca', 'Andrea', 'Chiara', 'Davide', 'Sara']\n",
      "ordinata alfabetico ['Alessandro', 'Andrea', 'Chiara', 'Davide', 'Francesca', 'Giulia', 'Luca', 'Marco', 'Sara', 'Sofia']\n"
     ]
    }
   ],
   "source": [
    "#Ordina una lista di nomi in ordine alfabetico.\n",
    "nomi = ['Alessandro','Giulia','Luca','Sofia','Marco','Francesca','Andrea','Chiara','Davide','Sara']\n",
    "print(f'una lista di nomi {nomi}')\n",
    "ordinati = sorted(nomi)\n",
    "print(f'ordinata alfabetico {ordinati}')\n"
   ]
  },
  {
   "cell_type": "code",
   "execution_count": null,
   "id": "3ed36177",
   "metadata": {},
   "outputs": [
    {
     "name": "stdout",
     "output_type": "stream",
     "text": [
      "la lista di frutti ['mela', 'pera', 'mela', 'banana', 'pera', 'mela']\n",
      "elemento \"mela\" si ripete 3\n"
     ]
    }
   ],
   "source": [
    "#Cerca un elemento specifico in una lista e conta quante volte \n",
    "#compare.\n",
    "frutta = ['mela', 'pera', 'mela', 'banana', 'pera', 'mela']\n",
    "print(f'la lista di frutti {frutta}')\n",
    "conta = frutta.count('mela')\n",
    "print(f'elemento \"mela\" si ripete {conta}')"
   ]
  },
  {
   "cell_type": "code",
   "execution_count": 3,
   "id": "7e427edd",
   "metadata": {},
   "outputs": [
    {
     "name": "stdout",
     "output_type": "stream",
     "text": [
      "il dizionario di stati {'italia': 'roma', 'germania': 'berlino', 'giappone': 'tokoy'}\n",
      "la capitale del italia e roma\n",
      "chiave italia: valore roma\n",
      "chiave germania: valore berlino\n",
      "chiave giappone: valore tokoy\n"
     ]
    }
   ],
   "source": [
    "#Crea un dizionario con i nomi di tre paesi e le rispettive \n",
    "#capitali. Aggiungi una nuova coppia chiave-valore.\n",
    "stati = {\n",
    "    'italia':'roma',\n",
    "    'germania':'berlino',\n",
    "    'giappone':'tokoy'\n",
    "}\n",
    "print(f'il dizionario di stati {stati}')\n",
    "\n",
    "#Accedi alla capitale di un paese specifico.\n",
    "print(f'la capitale del italia e {stati[\"italia\"]}')\n",
    "\n",
    "#Itera attraverso tutte le chiavi e i valori del dizionario.\n",
    "for chiavi,valore in stati.items():\n",
    "    print(f'chiave {chiavi}: valore {valore}')"
   ]
  },
  {
   "cell_type": "code",
   "execution_count": 1,
   "id": "68cab31c",
   "metadata": {},
   "outputs": [
    {
     "name": "stdout",
     "output_type": "stream",
     "text": [
      "la lista di settimana ('lunedi', 'martedi', 'mercoledi', 'giovedi', 'venerdi', 'sabato', 'domenica')\n",
      "unione di due tuple (1, 2, 3, 'a', 'b', 'c')\n"
     ]
    }
   ],
   "source": [
    "#Crea una tupla con i giorni della settimana. \n",
    "#Prova a modificare un elemento (osserva l'errore).\n",
    "settimana = ('lunedi',\n",
    "             'martedi',\n",
    "             'mercoledi',\n",
    "             'giovedi',\n",
    "             'venerdi',\n",
    "             'sabato',\n",
    "             'domenica')\n",
    "print(f'la lista di settimana {settimana}')\n",
    "\n",
    "#Unisciti a due tuple.\n",
    "tupla1 = (1, 2, 3)\n",
    "tupla2 = ('a', 'b', 'c')\n",
    "tupla3 = tupla1 + tupla2\n",
    "print(f'unione di due tuple {tupla3}')\n",
    "\n"
   ]
  },
  {
   "cell_type": "code",
   "execution_count": 3,
   "id": "17a86a78",
   "metadata": {},
   "outputs": [
    {
     "name": "stdout",
     "output_type": "stream",
     "text": [
      "unione di due set {0, 1, 2, 3, 4, 5, 6, 7, 8, 9}\n",
      "intersezione di due set {2, 4, 5, 7, 8}\n",
      "la diferenza tra due set {1, 3, 6, 9}\n"
     ]
    }
   ],
   "source": [
    "#Crea due set di numeri. Trova l'unione, l'intersezione e la differenza tra i due set.\n",
    "set1 = {1,2,3,4,5,6,7,8,9}\n",
    "set2 = {2,4,5,7,8,0}\n",
    "\n",
    "print(f'unione di due set {set1.union(set2)}')\n",
    "print(f'intersezione di due set {set1.intersection(set2)}')\n",
    "print(f'la diferenza tra due set {set1.difference(set2)}')\n",
    "#Aggiungi un elemento a un set e rimuovilo."
   ]
  },
  {
   "cell_type": "code",
   "execution_count": null,
   "id": "dee7542a",
   "metadata": {},
   "outputs": [
    {
     "name": "stdout",
     "output_type": "stream",
     "text": [
      "espressione 4.0\n"
     ]
    }
   ],
   "source": [
    "#Usa operatori aritmetici per calcolare l'espressione $(5 + 3) \\* 2 / 4$.\n",
    "espressione = (5 + 3) * 2 / 4\n",
    "print(f'espressione {espressione}')"
   ]
  },
  {
   "cell_type": "code",
   "execution_count": 7,
   "id": "077e62d7",
   "metadata": {},
   "outputs": [
    {
     "name": "stdout",
     "output_type": "stream",
     "text": [
      "False\n",
      "False\n"
     ]
    }
   ],
   "source": [
    "#Confronta due numeri usando operatori di confronto e stampa \n",
    "#il risultato booleano.\n",
    "num1 = 8\n",
    "num2 = 7\n",
    "vero = True\n",
    "falso = False\n",
    "\n",
    "if num1 == num2:\n",
    "    print(vero)\n",
    "else: print(falso)\n",
    "\n",
    "print(num1 == num2)"
   ]
  },
  {
   "cell_type": "code",
   "execution_count": 8,
   "id": "a89fecc0",
   "metadata": {},
   "outputs": [
    {
     "name": "stdout",
     "output_type": "stream",
     "text": [
      "True\n"
     ]
    }
   ],
   "source": [
    "#Usa operatori logici per verificare se un numero è maggiore \n",
    "#di 10 e minore di 20.\n",
    "numero = 15\n",
    "print(numero > 10 and numero < 20)"
   ]
  },
  {
   "cell_type": "code",
   "execution_count": 1,
   "id": "4ab2efa7",
   "metadata": {},
   "outputs": [
    {
     "name": "stdout",
     "output_type": "stream",
     "text": [
      "il numero 5 e positivo\n",
      "anno 3000 e bisestile\n",
      "la persona con eta 54 e un adulto\n"
     ]
    }
   ],
   "source": [
    "#Chiedi un numero all'utente e stampa se è positivo, negativo o \n",
    "#zero.\n",
    "numero = int(input(\"inserisci un numero: \"))\n",
    "if numero > 0:\n",
    "    print(f'il numero {numero} e positivo')\n",
    "elif numero < 0: \n",
    "    print(f'il numero {numero} e negativo')\n",
    "elif numero == 0:\n",
    "    print(f'il numero e uguale a 0')\n",
    "\n",
    "#Verifica se un anno inserito dall'utente è bisestile.\n",
    "anno = int(input(\" inserisci un anno: \"))\n",
    "if anno % 4 == 0:\n",
    "    print(f'anno {anno} e bisestile')\n",
    "else: \n",
    "    print(f'anno {anno} non e biestile')\n",
    "\n",
    "#Crea un semplice programma che, in base all'età inserita, \n",
    "#determini se una persona è un bambino, un adolescente o un \n",
    "#adulto.\n",
    "\n",
    "eta = int(input(\"inserisci eta: \"))\n",
    "if eta >= 0 and eta <= 13:\n",
    "    print(f'la persona con eta {eta} e un bambino')\n",
    "elif eta >= 14 and eta <= 19:\n",
    "    print(f'la persona con eta {eta} e un adolescente')\n",
    "else: print(f'la persona con eta {eta} e un adulto')"
   ]
  },
  {
   "cell_type": "code",
   "execution_count": 13,
   "id": "8c68f34b",
   "metadata": {},
   "outputs": [
    {
     "name": "stdout",
     "output_type": "stream",
     "text": [
      "indice: 1\n",
      "indice: 2\n",
      "indice: 3\n",
      "indice: 4\n",
      "indice: 5\n",
      "indice: 6\n",
      "indice: 7\n",
      "indice: 8\n",
      "indice: 9\n",
      "indice: 10\n",
      "\n",
      "Alessandro\n",
      "Giulia\n",
      "Luca\n",
      "Sofia\n",
      "Marco\n",
      "Francesca\n",
      "Andrea\n",
      "Chiara\n",
      "Davide\n",
      "Sara\n",
      "\n",
      "la somma di numeri tra 0 a 50: 650\n"
     ]
    }
   ],
   "source": [
    "#Stampa i numeri da 1 a 10 usando un ciclo `for`.\n",
    "for indice in range(1,11):\n",
    "    print(f'indice: {indice}')\n",
    "\n",
    "print()\n",
    "#Itera attraverso una lista di nomi e stampali uno per riga.\n",
    "nomi = ['Alessandro','Giulia','Luca','Sofia','Marco','Francesca','Andrea','Chiara','Davide','Sara']\n",
    "for indice in nomi:\n",
    "    print(indice)\n",
    "\n",
    "print()\n",
    "#Calcola la somma di tutti i numeri pari da 0 a 50.\n",
    "somma = 0\n",
    "for som in range(0,51):\n",
    "    if som % 2 == 0:\n",
    "     somma += som\n",
    "print(f'la somma di numeri tra 0 a 50: {somma}')"
   ]
  },
  {
   "cell_type": "code",
   "execution_count": 21,
   "id": "de706042",
   "metadata": {},
   "outputs": [
    {
     "name": "stdout",
     "output_type": "stream",
     "text": [
      "hai indovinato\n",
      "indice 10\n",
      "indice 9\n",
      "indice 8\n",
      "indice 7\n",
      "indice 6\n",
      "indice 5\n",
      "indice 4\n",
      "indice 3\n",
      "indice 2\n",
      "indice 1\n"
     ]
    }
   ],
   "source": [
    "#Chiedi all'utente di indovinare un numero finché non indovina \n",
    "#quello corretto.\n",
    "while True:\n",
    "    numero_indo = 56\n",
    "    numero = int(input('inserisci un numero da indovinare: '))\n",
    "    if numero == numero_indo:\n",
    "        print('hai indovinato')\n",
    "        break\n",
    "\n",
    "#Stampa i numeri da 10 a 1 in ordine decrescente usando un ciclo \n",
    "#`while`.\n",
    "i = 10\n",
    "while i > 0:\n",
    "    print(f'indice {i}')\n",
    "    i -= 1\n"
   ]
  },
  {
   "cell_type": "code",
   "execution_count": 26,
   "id": "f4d4b3ec",
   "metadata": {},
   "outputs": [
    {
     "name": "stdout",
     "output_type": "stream",
     "text": [
      "indice da 5 a 15 5\n",
      "indice da 5 a 15 6\n",
      "indice da 5 a 15 7\n",
      "indice da 5 a 15 8\n",
      "indice da 5 a 15 9\n",
      "indice da 5 a 15 10\n",
      "indice da 5 a 15 11\n",
      "indice da 5 a 15 12\n",
      "indice da 5 a 15 13\n",
      "indice da 5 a 15 14\n",
      "indice da 5 a 15 15\n",
      "\n",
      "indice da 0 a 100 con uno step di 3 0\n",
      "indice da 0 a 100 con uno step di 3 3\n",
      "indice da 0 a 100 con uno step di 3 6\n",
      "indice da 0 a 100 con uno step di 3 9\n",
      "indice da 0 a 100 con uno step di 3 12\n",
      "indice da 0 a 100 con uno step di 3 15\n",
      "indice da 0 a 100 con uno step di 3 18\n",
      "indice da 0 a 100 con uno step di 3 21\n",
      "indice da 0 a 100 con uno step di 3 24\n",
      "indice da 0 a 100 con uno step di 3 27\n",
      "indice da 0 a 100 con uno step di 3 30\n",
      "indice da 0 a 100 con uno step di 3 33\n",
      "indice da 0 a 100 con uno step di 3 36\n",
      "indice da 0 a 100 con uno step di 3 39\n",
      "indice da 0 a 100 con uno step di 3 42\n",
      "indice da 0 a 100 con uno step di 3 45\n",
      "indice da 0 a 100 con uno step di 3 48\n",
      "indice da 0 a 100 con uno step di 3 51\n",
      "indice da 0 a 100 con uno step di 3 54\n",
      "indice da 0 a 100 con uno step di 3 57\n",
      "indice da 0 a 100 con uno step di 3 60\n",
      "indice da 0 a 100 con uno step di 3 63\n",
      "indice da 0 a 100 con uno step di 3 66\n",
      "indice da 0 a 100 con uno step di 3 69\n",
      "indice da 0 a 100 con uno step di 3 72\n",
      "indice da 0 a 100 con uno step di 3 75\n",
      "indice da 0 a 100 con uno step di 3 78\n",
      "indice da 0 a 100 con uno step di 3 81\n",
      "indice da 0 a 100 con uno step di 3 84\n",
      "indice da 0 a 100 con uno step di 3 87\n",
      "indice da 0 a 100 con uno step di 3 90\n",
      "indice da 0 a 100 con uno step di 3 93\n",
      "indice da 0 a 100 con uno step di 3 96\n",
      "indice da 0 a 100 con uno step di 3 99\n"
     ]
    }
   ],
   "source": [
    "#Usa `range()` per stampare i numeri da 5 a 15 (incluso).\n",
    "for indice in range(5, 16):\n",
    "    print(f'indice da 5 a 15 {indice}')\n",
    "\n",
    "print()\n",
    "#Genera una sequenza di numeri con uno step di 3.\n",
    "for indice in range(0, 101, 3):\n",
    "    print(f'indice da 0 a 100 con uno step di 3 {indice}')"
   ]
  },
  {
   "cell_type": "code",
   "execution_count": 31,
   "id": "13f7edcc",
   "metadata": {},
   "outputs": [
    {
     "name": "stdout",
     "output_type": "stream",
     "text": [
      "indice da 1 a 10 1\n",
      "indice da 1 a 10 2\n",
      "indice da 1 a 10 3\n",
      "indice da 1 a 10 4\n",
      "indice da 1 a 10 5\n",
      "indice da 1 a 10 6\n",
      "indice si ferma a 7\n",
      "\n",
      "indice da 1 a 10 1\n",
      "indice da 1 a 10 2\n",
      "indice da 1 a 10 3\n",
      "indice da 1 a 10 4\n",
      "indice salta il numero 5\n",
      "indice da 1 a 10 6\n",
      "indice da 1 a 10 7\n",
      "indice da 1 a 10 8\n",
      "indice da 1 a 10 9\n",
      "indice da 1 a 10 10\n",
      "\n"
     ]
    }
   ],
   "source": [
    "#In un ciclo `for` da 1 a 10, interrompi il ciclo quando il numero è 7.\n",
    "for indice in range(1, 11):\n",
    "    if indice == 7:\n",
    "        print('indice si ferma a 7')\n",
    "        break\n",
    "    print(f'indice da 1 a 10 {indice}')\n",
    "\n",
    "print()\n",
    "#In un ciclo `for` da 1 a 10, salta la stampa del numero 5.\n",
    "for indice in range(1, 11):\n",
    "    if indice == 5:\n",
    "        print('indice salta il numero 5')\n",
    "        continue\n",
    "    print(f'indice da 1 a 10 {indice}')\n",
    "    \n",
    "print()\n",
    "#Usa `pass` in un blocco `if` vuoto.\n",
    "if indice:\n",
    "    pass"
   ]
  },
  {
   "cell_type": "code",
   "execution_count": 38,
   "id": "fc6549f2",
   "metadata": {
    "vscode": {
     "languageId": "ruby"
    }
   },
   "outputs": [
    {
     "name": "stdout",
     "output_type": "stream",
     "text": [
      "9\n"
     ]
    }
   ],
   "source": [
    "#Scrivi una funzione che prenda due numeri come parametri e restituisca la loro somma.\n",
    "def somma(a,b):\n",
    "    return a + b\n",
    "print(somma(4,5))\n",
    "\n",
    "#Scrivi una funzione che calcoli il fattoriale di un numero."
   ]
  },
  {
   "cell_type": "code",
   "execution_count": 42,
   "id": "ca221f2f",
   "metadata": {
    "vscode": {
     "languageId": "ruby"
    }
   },
   "outputs": [
    {
     "name": "stdout",
     "output_type": "stream",
     "text": [
      "ciao utente di nome franco\n"
     ]
    }
   ],
   "source": [
    "#Crea una funzione che saluti un utente con il suo nome (passato come parametro).\n",
    "def saluti(nome):\n",
    "    print(f'ciao utente di nome {nome}')\n",
    "saluti('franco')"
   ]
  },
  {
   "cell_type": "code",
   "execution_count": 44,
   "id": "6268f52a",
   "metadata": {
    "vscode": {
     "languageId": "ruby"
    }
   },
   "outputs": [
    {
     "data": {
      "text/plain": [
       "120"
      ]
     },
     "execution_count": 44,
     "metadata": {},
     "output_type": "execute_result"
    }
   ],
   "source": [
    "#Scrivi una funzione che calcoli il fattoriale di un numero.\n",
    "def fattoriale(n):\n",
    "    risultato = 1\n",
    "    for i in range(1, n+1):\n",
    "        risultato *= i\n",
    "    return risultato\n",
    "fattoriale(5)"
   ]
  },
  {
   "cell_type": "code",
   "execution_count": null,
   "id": "13665872",
   "metadata": {
    "vscode": {
     "languageId": "ruby"
    }
   },
   "outputs": [],
   "source": [
    "#Crea una classe Persona con attributi nome ed età. \n",
    "#Aggiungi un metodo saluta() che stampi un messaggio di saluto.\n"
   ]
  }
 ],
 "metadata": {
  "kernelspec": {
   "display_name": "Python 3",
   "language": "python",
   "name": "python3"
  },
  "language_info": {
   "codemirror_mode": {
    "name": "ipython",
    "version": 3
   },
   "file_extension": ".py",
   "mimetype": "text/x-python",
   "name": "python",
   "nbconvert_exporter": "python",
   "pygments_lexer": "ipython3",
   "version": "3.11.9"
  }
 },
 "nbformat": 4,
 "nbformat_minor": 5
}
