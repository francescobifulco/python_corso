{
 "cells": [
  {
   "cell_type": "markdown",
   "id": "e6f58788",
   "metadata": {},
   "source": [
    "Create un programma che crea un dataframe sulla base dell'imput dell'utente contenente 4 studenti e le medie dei voti mensili per sei mesi di studio.\n",
    "Il programma ci restituirà:\n",
    "-Un grafico contenente 4 grafici più piccoli, uno per ogni studente, con andamento delle medie dei voti per ogni mese;\n",
    "-Un altro grafico che racchiude tutti gli andamenti di tutti gli studenti"
   ]
  },
  {
   "cell_type": "code",
   "execution_count": 6,
   "id": "d5e50a3a",
   "metadata": {},
   "outputs": [],
   "source": [
    "import pandas as pd\n",
    "studenti = []"
   ]
  },
  {
   "cell_type": "code",
   "execution_count": null,
   "id": "6779edba",
   "metadata": {},
   "outputs": [
    {
     "name": "stdout",
     "output_type": "stream",
     "text": [
      "\n",
      "--- Inserisci i dati per lo studente 1 ---\n",
      "Inserisci le medie dei voti per 6 mesi per fddf fdgdf:\n",
      "\n",
      "--- Inserisci i dati per lo studente 2 ---\n",
      "Inserisci le medie dei voti per 6 mesi per drfgdfg rd:\n",
      "\n",
      "--- Inserisci i dati per lo studente 3 ---\n",
      "Inserisci le medie dei voti per 6 mesi per hfh fgfgf:\n",
      "\n",
      "--- Inserisci i dati per lo studente 4 ---\n",
      "Inserisci le medie dei voti per 6 mesi per fhghf fgdf:\n",
      "\n",
      "--- DataFrame delle Medie Mensili ---\n",
      "      Nome Cognome    Corso  Mese 1  Mese 2  Mese 3  Mese 4  Mese 5  Mese 6\n",
      "0     fddf   fdgdf  fdgdfgd     3.0     5.0     6.0     4.0     7.0     4.0\n",
      "1  drfgdfg      rd      fgd     4.0     6.0     6.0     4.0     5.0     6.0\n",
      "2      hfh   fgfgf      ffh     4.0     4.0     6.0     7.0     5.0     5.0\n",
      "3    fhghf    fgdf      fgd     4.0     4.0     4.0     6.0     7.0     6.0\n"
     ]
    }
   ],
   "source": [
    "\n",
    "for i in range(4): \n",
    "    print(f\"\\n--- Inserisci i dati per lo studente {i+1} ---\")\n",
    "    nome = input(\"Inserisci il nome: \")\n",
    "    cognome = input(\"Inserisci il cognome: \")\n",
    "    corso = input(\"Inserisci il corso: \")\n",
    "    medie_mensili = {} \n",
    "    print(f\"Inserisci le medie dei voti per 6 mesi per {nome} {cognome}:\")\n",
    "    \n",
    "    for mese_num in range(1, 7): \n",
    "        while True: \n",
    "            voto_input = input(f\"Media voto per il Mese {mese_num}: \")\n",
    "            try:\n",
    "                voto_numerico = float(voto_input)\n",
    "                if 0 <= voto_numerico <= 10: \n",
    "                    medie_mensili[f'Mese {mese_num}'] = round(voto_numerico, 2) # Arrotonda a 2 decimali\n",
    "                    break \n",
    "                else:\n",
    "                    print(\"Voto non valido. Inserisci un numero tra 0 e 10.\")\n",
    "            except ValueError:\n",
    "                print(\"Input non valido. Inserisci un numero.\")\n",
    " \n",
    "    dati_studente = {\n",
    "        'Nome': nome,\n",
    "        'Cognome': cognome,\n",
    "        'Corso': corso,\n",
    "        **medie_mensili \n",
    "        }\n",
    "    studenti.append(dati_studente) \n",
    "df = pd.DataFrame(studenti)\n",
    "\n",
    "print(\"\\n--- DataFrame delle Medie Mensili ---\")\n",
    "print(df)\n",
    "    "
   ]
  },
  {
   "cell_type": "code",
   "execution_count": 7,
   "id": "e58b2dd4",
   "metadata": {},
   "outputs": [
    {
     "data": {
      "text/plain": [
       "<Figure size 1500x1000 with 0 Axes>"
      ]
     },
     "metadata": {},
     "output_type": "display_data"
    }
   ],
   "source": [
    "import matplotlib.pyplot as plt\n",
    "import numpy as np\n",
    "import pandas as pd\n",
    "\n",
    "plt.figure(figsize=(15, 10))\n",
    "mesi_labels = [f'Mese {m}' for m in range(1, 7)]\n",
    "x_values = np.arange(1, 7)\n",
    "\n",
    "for i, student_data in enumerate(studenti):\n",
    "    plt.subplot(2, 2, i + 1)\n",
    "    y_values = [student_data[mese] for mese in mesi_labels]\n",
    "\n",
    "    plt.plot(x_values, y_values, marker='o') \n",
    "    plt.title(f\"Andamento Voti: {student_data['Nome']} {student_data['Cognome']}\")\n",
    "    plt.xlabel(\"Mese\")\n",
    "    plt.ylabel(\"Media Voto\")\n",
    "    plt.ylim(0, 10) \n",
    "    plt.xticks(x_values, mesi_labels, rotation=45, ha='right')\n",
    "    plt.grid(True, linestyle='--', alpha=0.7)\n",
    "plt.suptitle(\"Andamento Mensile delle Medie Voti per Studente\", fontsize=16) \n",
    "plt.tight_layout(rect=[0, 0.03, 1, 0.95]) \n",
    "plt.show()"
   ]
  },
  {
   "cell_type": "code",
   "execution_count": 9,
   "id": "33a34864",
   "metadata": {},
   "outputs": [],
   "source": [
    "#Importa la libreria NumPy con l'alias np.\n",
    "import numpy as np"
   ]
  },
  {
   "cell_type": "code",
   "execution_count": null,
   "id": "a7f7c340",
   "metadata": {},
   "outputs": [
    {
     "name": "stdout",
     "output_type": "stream",
     "text": [
      "[0 1 2 3 4 5 6 7 8 9]\n"
     ]
    }
   ],
   "source": [
    "#Crea un array NumPy chiamato ar_interi contenente i numeri \n",
    "#interi da 0 a 9.\n",
    "ar_interi = np.array([0,1,2,3,4,5,6,7,8,9])\n",
    "print(ar_interi)"
   ]
  },
  {
   "cell_type": "code",
   "execution_count": null,
   "id": "127870f8",
   "metadata": {},
   "outputs": [
    {
     "name": "stdout",
     "output_type": "stream",
     "text": [
      "45\n",
      "4.5\n",
      "0\n"
     ]
    }
   ],
   "source": [
    "#Calcola la somma, la media e il prodotto degli elementi di \n",
    "#ar_interi e stampali.\n",
    "print(ar_interi.sum())\n",
    "print(ar_interi.mean())\n",
    "print(ar_interi.prod())"
   ]
  },
  {
   "cell_type": "code",
   "execution_count": null,
   "id": "85f6b14a",
   "metadata": {},
   "outputs": [
    {
     "name": "stdout",
     "output_type": "stream",
     "text": [
      "[10.4 11.7 12.4 13.7 14.2]\n"
     ]
    }
   ],
   "source": [
    "#Crea un altro array NumPy chiamato ar_decimali contenente 5 \n",
    "#numeri decimali a tua scelta.\n",
    "ar_decimali = np.array([10.4,11.7,12.4,13.7,14.2])\n",
    "print(ar_decimali)"
   ]
  },
  {
   "cell_type": "code",
   "execution_count": 18,
   "id": "036952cf",
   "metadata": {},
   "outputs": [],
   "source": [
    "#Crea due array NumPy: a = np.array([10, 20, 30, 40]) e \n",
    "# b = np.array([1, 2, 3, 4]).\n",
    "a = np.array([10, 20, 30, 40])\n",
    "b = np.array([1, 2, 3, 4])"
   ]
  },
  {
   "cell_type": "code",
   "execution_count": 21,
   "id": "46409973",
   "metadata": {},
   "outputs": [
    {
     "name": "stdout",
     "output_type": "stream",
     "text": [
      "[11 22 33 44]\n",
      "[ 9 18 27 36]\n",
      "[ 10  40  90 160]\n"
     ]
    }
   ],
   "source": [
    "#Esegui la somma, la sottrazione, la moltiplicazione e \n",
    "#la divisione (reale, non intera) elemento per elemento \n",
    "# tra a e b. Stampa ogni risultato.\n",
    "somm = a + b\n",
    "print(somm)\n",
    "sott = a - b\n",
    "print(sott)\n",
    "molt = a * b\n",
    "print(molt)"
   ]
  },
  {
   "cell_type": "code",
   "execution_count": 14,
   "id": "0f4009d9",
   "metadata": {},
   "outputs": [],
   "source": [
    "#Importa la libreria Pandas con l'alias pd.\n",
    "import pandas as pd"
   ]
  },
  {
   "cell_type": "code",
   "execution_count": 16,
   "id": "fe47015e",
   "metadata": {},
   "outputs": [
    {
     "name": "stdout",
     "output_type": "stream",
     "text": [
      "Alice      20\n",
      "Bob        22\n",
      "Charlie    21\n",
      "Diana      23\n",
      "Eva        20\n",
      "dtype: int64\n"
     ]
    }
   ],
   "source": [
    "#Crea una Serie Pandas chiamata età_studenti dai seguenti \n",
    "# dati: [20, 22, 21, 23, 20]. Assegna nomi personalizzati agli \n",
    "# indici, ad esempio: ['Alice', 'Bob', 'Charlie', 'Diana', 'Eva'].\n",
    "età_studenti = [20, 22, 21, 23, 20]\n",
    "nome_indici = ['Alice', 'Bob', 'Charlie', 'Diana', 'Eva']\n",
    "studenti_ = pd.Series(età_studenti, index=nome_indici)\n",
    "print(studenti_)"
   ]
  }
 ],
 "metadata": {
  "kernelspec": {
   "display_name": "Python 3",
   "language": "python",
   "name": "python3"
  },
  "language_info": {
   "codemirror_mode": {
    "name": "ipython",
    "version": 3
   },
   "file_extension": ".py",
   "mimetype": "text/x-python",
   "name": "python",
   "nbconvert_exporter": "python",
   "pygments_lexer": "ipython3",
   "version": "3.11.9"
  }
 },
 "nbformat": 4,
 "nbformat_minor": 5
}
