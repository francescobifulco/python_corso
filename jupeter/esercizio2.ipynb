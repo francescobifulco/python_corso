{
 "cells": [
  {
   "cell_type": "markdown",
   "id": "33dd2a7e",
   "metadata": {},
   "source": [
    "Sulla base del dataframe scaricato in precedenza con i dati Netflix:\n",
    "\n",
    "-Grafico a Torta con le percentuali di prodotti Film o Serie TV;\n",
    "-Grafico con da distribuzione dei prodotti per paese;\n",
    "-Grafico con andamento dell'aggiunta dei prodotti nel corso del tempo."
   ]
  },
  {
   "cell_type": "code",
   "execution_count": 2,
   "id": "2a070dd9",
   "metadata": {},
   "outputs": [],
   "source": [
    "import matplotlib.pyplot as plt\n",
    "import numpy as np\n",
    "import pandas as pd"
   ]
  },
  {
   "cell_type": "code",
   "execution_count": 5,
   "id": "b9a79bd5",
   "metadata": {},
   "outputs": [
    {
     "name": "stdout",
     "output_type": "stream",
     "text": [
      "     show_id     type                  title         director  \\\n",
      "0         s1    Movie   Dick Johnson Is Dead  Kirsten Johnson   \n",
      "1         s2  TV Show          Blood & Water              NaN   \n",
      "2         s3  TV Show              Ganglands  Julien Leclercq   \n",
      "3         s4  TV Show  Jailbirds New Orleans              NaN   \n",
      "4         s5  TV Show           Kota Factory              NaN   \n",
      "...      ...      ...                    ...              ...   \n",
      "8802   s8803    Movie                 Zodiac    David Fincher   \n",
      "8803   s8804  TV Show            Zombie Dumb              NaN   \n",
      "8804   s8805    Movie             Zombieland  Ruben Fleischer   \n",
      "8805   s8806    Movie                   Zoom     Peter Hewitt   \n",
      "8806   s8807    Movie                 Zubaan      Mozez Singh   \n",
      "\n",
      "                                                   cast        country  \\\n",
      "0                                                   NaN  United States   \n",
      "1     Ama Qamata, Khosi Ngema, Gail Mabalane, Thaban...   South Africa   \n",
      "2     Sami Bouajila, Tracy Gotoas, Samuel Jouy, Nabi...            NaN   \n",
      "3                                                   NaN            NaN   \n",
      "4     Mayur More, Jitendra Kumar, Ranjan Raj, Alam K...          India   \n",
      "...                                                 ...            ...   \n",
      "8802  Mark Ruffalo, Jake Gyllenhaal, Robert Downey J...  United States   \n",
      "8803                                                NaN            NaN   \n",
      "8804  Jesse Eisenberg, Woody Harrelson, Emma Stone, ...  United States   \n",
      "8805  Tim Allen, Courteney Cox, Chevy Chase, Kate Ma...  United States   \n",
      "8806  Vicky Kaushal, Sarah-Jane Dias, Raaghav Chanan...          India   \n",
      "\n",
      "              date_added  release_year rating   duration  \\\n",
      "0     September 25, 2021          2020  PG-13     90 min   \n",
      "1     September 24, 2021          2021  TV-MA  2 Seasons   \n",
      "2     September 24, 2021          2021  TV-MA   1 Season   \n",
      "3     September 24, 2021          2021  TV-MA   1 Season   \n",
      "4     September 24, 2021          2021  TV-MA  2 Seasons   \n",
      "...                  ...           ...    ...        ...   \n",
      "8802   November 20, 2019          2007      R    158 min   \n",
      "8803        July 1, 2019          2018  TV-Y7  2 Seasons   \n",
      "8804    November 1, 2019          2009      R     88 min   \n",
      "8805    January 11, 2020          2006     PG     88 min   \n",
      "8806       March 2, 2019          2015  TV-14    111 min   \n",
      "\n",
      "                                              listed_in  \\\n",
      "0                                         Documentaries   \n",
      "1       International TV Shows, TV Dramas, TV Mysteries   \n",
      "2     Crime TV Shows, International TV Shows, TV Act...   \n",
      "3                                Docuseries, Reality TV   \n",
      "4     International TV Shows, Romantic TV Shows, TV ...   \n",
      "...                                                 ...   \n",
      "8802                     Cult Movies, Dramas, Thrillers   \n",
      "8803             Kids' TV, Korean TV Shows, TV Comedies   \n",
      "8804                            Comedies, Horror Movies   \n",
      "8805                 Children & Family Movies, Comedies   \n",
      "8806     Dramas, International Movies, Music & Musicals   \n",
      "\n",
      "                                            description  \n",
      "0     As her father nears the end of his life, filmm...  \n",
      "1     After crossing paths at a party, a Cape Town t...  \n",
      "2     To protect his family from a powerful drug lor...  \n",
      "3     Feuds, flirtations and toilet talk go down amo...  \n",
      "4     In a city of coaching centers known to train I...  \n",
      "...                                                 ...  \n",
      "8802  A political cartoonist, a crime reporter and a...  \n",
      "8803  While living alone in a spooky town, a young g...  \n",
      "8804  Looking to survive in a world taken over by zo...  \n",
      "8805  Dragged from civilian life, a former superhero...  \n",
      "8806  A scrappy but poor boy worms his way into a ty...  \n",
      "\n",
      "[8807 rows x 12 columns]\n"
     ]
    }
   ],
   "source": [
    "df = pd.read_csv('netflix_titles.csv')\n",
    "print(df)"
   ]
  },
  {
   "cell_type": "code",
   "execution_count": 40,
   "id": "cb40e538",
   "metadata": {},
   "outputs": [
    {
     "name": "stdout",
     "output_type": "stream",
     "text": [
      "le prime 5   show_id     type                  title         director  \\\n",
      "0      s1    Movie   Dick Johnson Is Dead  Kirsten Johnson   \n",
      "1      s2  TV Show          Blood & Water              NaN   \n",
      "2      s3  TV Show              Ganglands  Julien Leclercq   \n",
      "3      s4  TV Show  Jailbirds New Orleans              NaN   \n",
      "4      s5  TV Show           Kota Factory              NaN   \n",
      "\n",
      "                                                cast        country  \\\n",
      "0                                                NaN  United States   \n",
      "1  Ama Qamata, Khosi Ngema, Gail Mabalane, Thaban...   South Africa   \n",
      "2  Sami Bouajila, Tracy Gotoas, Samuel Jouy, Nabi...            NaN   \n",
      "3                                                NaN            NaN   \n",
      "4  Mayur More, Jitendra Kumar, Ranjan Raj, Alam K...          India   \n",
      "\n",
      "           date_added  release_year rating   duration  \\\n",
      "0  September 25, 2021          2020  PG-13     90 min   \n",
      "1  September 24, 2021          2021  TV-MA  2 Seasons   \n",
      "2  September 24, 2021          2021  TV-MA   1 Season   \n",
      "3  September 24, 2021          2021  TV-MA   1 Season   \n",
      "4  September 24, 2021          2021  TV-MA  2 Seasons   \n",
      "\n",
      "                                           listed_in  \\\n",
      "0                                      Documentaries   \n",
      "1    International TV Shows, TV Dramas, TV Mysteries   \n",
      "2  Crime TV Shows, International TV Shows, TV Act...   \n",
      "3                             Docuseries, Reality TV   \n",
      "4  International TV Shows, Romantic TV Shows, TV ...   \n",
      "\n",
      "                                         description  \n",
      "0  As her father nears the end of his life, filmm...  \n",
      "1  After crossing paths at a party, a Cape Town t...  \n",
      "2  To protect his family from a powerful drug lor...  \n",
      "3  Feuds, flirtations and toilet talk go down amo...  \n",
      "4  In a city of coaching centers known to train I...  \n"
     ]
    }
   ],
   "source": [
    "#Visualizza le prime 5 righe del DataFrame df.\n",
    "print('le prime 5', df.head(5))\n"
   ]
  },
  {
   "cell_type": "code",
   "execution_count": 41,
   "id": "19381a22",
   "metadata": {},
   "outputs": [
    {
     "name": "stdout",
     "output_type": "stream",
     "text": [
      "le ultime 3      show_id   type       title         director  \\\n",
      "8804   s8805  Movie  Zombieland  Ruben Fleischer   \n",
      "8805   s8806  Movie        Zoom     Peter Hewitt   \n",
      "8806   s8807  Movie      Zubaan      Mozez Singh   \n",
      "\n",
      "                                                   cast        country  \\\n",
      "8804  Jesse Eisenberg, Woody Harrelson, Emma Stone, ...  United States   \n",
      "8805  Tim Allen, Courteney Cox, Chevy Chase, Kate Ma...  United States   \n",
      "8806  Vicky Kaushal, Sarah-Jane Dias, Raaghav Chanan...          India   \n",
      "\n",
      "            date_added  release_year rating duration  \\\n",
      "8804  November 1, 2019          2009      R   88 min   \n",
      "8805  January 11, 2020          2006     PG   88 min   \n",
      "8806     March 2, 2019          2015  TV-14  111 min   \n",
      "\n",
      "                                           listed_in  \\\n",
      "8804                         Comedies, Horror Movies   \n",
      "8805              Children & Family Movies, Comedies   \n",
      "8806  Dramas, International Movies, Music & Musicals   \n",
      "\n",
      "                                            description  \n",
      "8804  Looking to survive in a world taken over by zo...  \n",
      "8805  Dragged from civilian life, a former superhero...  \n",
      "8806  A scrappy but poor boy worms his way into a ty...  \n"
     ]
    }
   ],
   "source": [
    "#Visualizza le ultime 3 righe del DataFrame df.\n",
    "print('le ultime 3', df.tail(3))"
   ]
  },
  {
   "cell_type": "code",
   "execution_count": 42,
   "id": "24b17532",
   "metadata": {},
   "outputs": [
    {
     "name": "stdout",
     "output_type": "stream",
     "text": [
      "le info <bound method DataFrame.info of      show_id     type                  title         director  \\\n",
      "0         s1    Movie   Dick Johnson Is Dead  Kirsten Johnson   \n",
      "1         s2  TV Show          Blood & Water              NaN   \n",
      "2         s3  TV Show              Ganglands  Julien Leclercq   \n",
      "3         s4  TV Show  Jailbirds New Orleans              NaN   \n",
      "4         s5  TV Show           Kota Factory              NaN   \n",
      "...      ...      ...                    ...              ...   \n",
      "8802   s8803    Movie                 Zodiac    David Fincher   \n",
      "8803   s8804  TV Show            Zombie Dumb              NaN   \n",
      "8804   s8805    Movie             Zombieland  Ruben Fleischer   \n",
      "8805   s8806    Movie                   Zoom     Peter Hewitt   \n",
      "8806   s8807    Movie                 Zubaan      Mozez Singh   \n",
      "\n",
      "                                                   cast        country  \\\n",
      "0                                                   NaN  United States   \n",
      "1     Ama Qamata, Khosi Ngema, Gail Mabalane, Thaban...   South Africa   \n",
      "2     Sami Bouajila, Tracy Gotoas, Samuel Jouy, Nabi...            NaN   \n",
      "3                                                   NaN            NaN   \n",
      "4     Mayur More, Jitendra Kumar, Ranjan Raj, Alam K...          India   \n",
      "...                                                 ...            ...   \n",
      "8802  Mark Ruffalo, Jake Gyllenhaal, Robert Downey J...  United States   \n",
      "8803                                                NaN            NaN   \n",
      "8804  Jesse Eisenberg, Woody Harrelson, Emma Stone, ...  United States   \n",
      "8805  Tim Allen, Courteney Cox, Chevy Chase, Kate Ma...  United States   \n",
      "8806  Vicky Kaushal, Sarah-Jane Dias, Raaghav Chanan...          India   \n",
      "\n",
      "              date_added  release_year rating   duration  \\\n",
      "0     September 25, 2021          2020  PG-13     90 min   \n",
      "1     September 24, 2021          2021  TV-MA  2 Seasons   \n",
      "2     September 24, 2021          2021  TV-MA   1 Season   \n",
      "3     September 24, 2021          2021  TV-MA   1 Season   \n",
      "4     September 24, 2021          2021  TV-MA  2 Seasons   \n",
      "...                  ...           ...    ...        ...   \n",
      "8802   November 20, 2019          2007      R    158 min   \n",
      "8803        July 1, 2019          2018  TV-Y7  2 Seasons   \n",
      "8804    November 1, 2019          2009      R     88 min   \n",
      "8805    January 11, 2020          2006     PG     88 min   \n",
      "8806       March 2, 2019          2015  TV-14    111 min   \n",
      "\n",
      "                                              listed_in  \\\n",
      "0                                         Documentaries   \n",
      "1       International TV Shows, TV Dramas, TV Mysteries   \n",
      "2     Crime TV Shows, International TV Shows, TV Act...   \n",
      "3                                Docuseries, Reality TV   \n",
      "4     International TV Shows, Romantic TV Shows, TV ...   \n",
      "...                                                 ...   \n",
      "8802                     Cult Movies, Dramas, Thrillers   \n",
      "8803             Kids' TV, Korean TV Shows, TV Comedies   \n",
      "8804                            Comedies, Horror Movies   \n",
      "8805                 Children & Family Movies, Comedies   \n",
      "8806     Dramas, International Movies, Music & Musicals   \n",
      "\n",
      "                                            description  \n",
      "0     As her father nears the end of his life, filmm...  \n",
      "1     After crossing paths at a party, a Cape Town t...  \n",
      "2     To protect his family from a powerful drug lor...  \n",
      "3     Feuds, flirtations and toilet talk go down amo...  \n",
      "4     In a city of coaching centers known to train I...  \n",
      "...                                                 ...  \n",
      "8802  A political cartoonist, a crime reporter and a...  \n",
      "8803  While living alone in a spooky town, a young g...  \n",
      "8804  Looking to survive in a world taken over by zo...  \n",
      "8805  Dragged from civilian life, a former superhero...  \n",
      "8806  A scrappy but poor boy worms his way into a ty...  \n",
      "\n",
      "[8807 rows x 12 columns]>\n"
     ]
    }
   ],
   "source": [
    "#Ottieni un riepilogo delle informazioni sul DataFrame df.\n",
    "print('le info', df.info)"
   ]
  },
  {
   "cell_type": "code",
   "execution_count": 46,
   "id": "38891597",
   "metadata": {},
   "outputs": [
    {
     "name": "stdout",
     "output_type": "stream",
     "text": [
      "le statistiche descrittive        release_year\n",
      "count   8807.000000\n",
      "mean    2014.180198\n",
      "std        8.819312\n",
      "min     1925.000000\n",
      "25%     2013.000000\n",
      "50%     2017.000000\n",
      "75%     2019.000000\n",
      "max     2021.000000\n"
     ]
    }
   ],
   "source": [
    "#Genera statistiche descrittive per il DataFrame df.\n",
    "print('le statistiche descrittive', df.describe())\n",
    "\n",
    "#Nota quali colonne vengono incluse e quali no, e perché."
   ]
  },
  {
   "cell_type": "code",
   "execution_count": 49,
   "id": "2799709c",
   "metadata": {},
   "outputs": [
    {
     "name": "stdout",
     "output_type": "stream",
     "text": [
      "numero di righe 8807\n",
      "numero per colonne 12\n"
     ]
    }
   ],
   "source": [
    "#Determina il numero di righe e colonne nel DataFrame df.\n",
    "print('numero di righe', df.shape[0])\n",
    "print('numero per colonne', df.shape[1])"
   ]
  },
  {
   "cell_type": "code",
   "execution_count": null,
   "id": "46b4b0a4",
   "metadata": {},
   "outputs": [],
   "source": [
    "#Elenca tutti i nomi delle colonne presenti nel DataFrame df.\n",
    "print()"
   ]
  },
  {
   "cell_type": "code",
   "execution_count": 51,
   "id": "9fa28767",
   "metadata": {},
   "outputs": [
    {
     "name": "stdout",
     "output_type": "stream",
     "text": [
      "File 'utenti_casual.csv' creato con successo!\n",
      "\n",
      "Prime 5 righe del file CSV:\n",
      "     id_utenti        nome    cognome    citta  anno_di_nascita  eta  altezza  \\\n",
      "0            1   Francesco    Colombo     Bari             1975   50      152   \n",
      "1            2       Alice      Ricci  Catania             1957   68      162   \n",
      "2            3      Davide    Ferrari   Genova             1978   47      177   \n",
      "3            4  Alessandro      Rossi  Catania             1975   50      174   \n",
      "4            5       Elena   Barbieri   Napoli             1959   66      182   \n",
      "..         ...         ...        ...      ...              ...  ...      ...   \n",
      "145        146      Simone      Rossi   Napoli             1977   48      182   \n",
      "146        147      Matteo  Silvestri   Milano             1957   68      173   \n",
      "147        148      Giulia      Rossi   Napoli             1990   35      164   \n",
      "148        149   Francesco      Verdi  Bologna             1988   37      179   \n",
      "149        150      Chiara    Fontana     Roma             1950   75      191   \n",
      "\n",
      "     peso         lavoro  stipendio  \n",
      "0     100       Studente      20779  \n",
      "1      66      Artigiano      27298  \n",
      "2      54      Impiegato      29153  \n",
      "3      78  Programmatore      25789  \n",
      "4      53      Impiegato      27999  \n",
      "..    ...            ...        ...  \n",
      "145    71        Dottore      38752  \n",
      "146    70       Studente      32685  \n",
      "147    55       Studente      26372  \n",
      "148    55       Designer      23996  \n",
      "149    97   Commerciante      31458  \n",
      "\n",
      "[150 rows x 10 columns]\n"
     ]
    }
   ],
   "source": [
    "import pandas as pd\n",
    "import numpy as np\n",
    "from datetime import datetime, timedelta\n",
    "\n",
    "# Definiamo il numero di righe desiderato\n",
    "num_righe = 150\n",
    "\n",
    "# Generiamo dati casuali per ogni colonna\n",
    "np.random.seed(42) # Per riproducibilità\n",
    "\n",
    "# id_utenti: sequenziale\n",
    "id_utenti = np.arange(1, num_righe + 1)\n",
    "\n",
    "# nome e cognome: liste di nomi comuni italiani per un tocco di realismo\n",
    "nomi = ['Luca', 'Marco', 'Giulia', 'Sofia', 'Andrea', 'Chiara', 'Francesco', 'Elena', 'Matteo', 'Sara', 'Alessandro', 'Laura', 'Simone', 'Martina', 'Davide', 'Anna', 'Giovanni', 'Maria', 'Federico', 'Alice']\n",
    "cognomi = ['Rossi', 'Bianchi', 'Verdi', 'Russo', 'Ferrari', 'Esposito', 'Romano', 'Colombo', 'Ricci', 'Marino', 'Greco', 'Bruno', 'Gallo', 'Conti', 'De Luca', 'Mancini', 'Costa', 'Fontana', 'Barbieri', 'Silvestri']\n",
    "\n",
    "nome = np.random.choice(nomi, num_righe)\n",
    "cognome = np.random.choice(cognomi, num_righe)\n",
    "\n",
    "# citta: alcune città italiane\n",
    "citta = np.random.choice(['Roma', 'Milano', 'Napoli', 'Torino', 'Palermo', 'Genova', 'Bologna', 'Firenze', 'Bari', 'Catania'], num_righe)\n",
    "\n",
    "# anno di nascita: tra il 1950 e il 2005\n",
    "anno_di_nascita = np.random.randint(1950, 2006, num_righe)\n",
    "\n",
    "# età: calcolata dall'anno di nascita (assumendo l'anno corrente 2025)\n",
    "eta = 2025 - anno_di_nascita\n",
    "\n",
    "# altezza: tra 150 e 195 cm\n",
    "altezza = np.random.randint(150, 196, num_righe)\n",
    "\n",
    "# peso: tra 50 e 100 kg\n",
    "peso = np.random.randint(50, 101, num_righe)\n",
    "\n",
    "# lavoro: alcuni esempi comuni\n",
    "lavoro = np.random.choice(['Ingegnere', 'Insegnante', 'Dottore', 'Studente', 'Commerciante', 'Libero Professionista', 'Impiegato', 'Artigiano', 'Programmatore', 'Designer'], num_righe)\n",
    "\n",
    "# stipendio: tra 15000 e 50000 euro annui, con una certa distribuzione\n",
    "stipendio = np.random.randint(15000, 50001, num_righe)\n",
    "\n",
    "# Creazione del DataFrame\n",
    "dati = {\n",
    "    'id_utenti': id_utenti,\n",
    "    'nome': nome,\n",
    "    'cognome': cognome,\n",
    "    'citta': citta,\n",
    "    'anno_di_nascita': anno_di_nascita,\n",
    "    'eta': eta,\n",
    "    'altezza': altezza,\n",
    "    'peso': peso,\n",
    "    'lavoro': lavoro,\n",
    "    'stipendio': stipendio\n",
    "}\n",
    "\n",
    "df = pd.DataFrame(dati)\n",
    "\n",
    "# Salvataggio del DataFrame in un file CSV\n",
    "nome_file = 'utenti_casual.csv'\n",
    "df.to_csv(nome_file, index=False) # index=False per non includere l'indice del DataFrame nel CSV\n",
    "\n",
    "print(f\"File '{nome_file}' creato con successo!\")\n",
    "print(\"\\nPrime 5 righe del file CSV:\")\n",
    "print(df)"
   ]
  },
  {
   "cell_type": "code",
   "execution_count": 29,
   "id": "98b107a7",
   "metadata": {},
   "outputs": [
    {
     "data": {
      "image/png": "[encoded data removed]",
      "text/plain": [
       "<Figure size 800x800 with 1 Axes>"
      ]
     },
     "metadata": {},
     "output_type": "display_data"
    }
   ],
   "source": [
    "data = {\n",
    "    'type': ['Movie', 'TV Show', 'Movie', 'TV Show', 'Movie', 'Movie']\n",
    "}\n",
    "df = pd.DataFrame(data)\n",
    "plt.figure(figsize=(8, 8)) \n",
    "conteggi_tipi = df['type'].value_counts()\n",
    "sizes = conteggi_tipi.values\n",
    "labels = conteggi_tipi.index\n",
    "plt.pie(sizes, labels=labels, autopct='%1.1f%%', startangle=180, shadow=True, explode=(0.05, 0)) \n",
    "plt.title('Distribuzione dei Tipi di Contenuto') \n",
    "plt.axis('equal')\n",
    "plt.show()"
   ]
  },
  {
   "cell_type": "code",
   "execution_count": null,
   "id": "2da2e6be",
   "metadata": {},
   "outputs": [],
   "source": [
    "df_pulito_paesi = df.dropna(subset=['country']).copy()\n",
    "\n",
    "paesi_singoli = df_pulito_paesi['country'].str.split(',').explode().str.strip()\n",
    "\n",
    "country_series = paesi_singoli.value_counts()\n",
    "\n",
    "top_n = 15\n",
    "top_paesi = country_series.head(top_n)\n",
    "\n",
    "plt.figure(figsize=(12, 7))\n",
    "\n",
    "plt.bar(top_paesi.index, top_paesi.values, color='skyblue')\n",
    "\n",
    "plt.xlabel('Paese', fontsize=12)\n",
    "plt.ylabel('Numero di Contenuti', fontsize=12)\n",
    "plt.title(f'Top {top_n} Paesi per Numero di Contenuti su Netflix', fontsize=16)\n",
    "\n",
    "plt.xticks(rotation=45, ha='right')\n",
    "plt.grid(axis='y', linestyle='--', alpha=0.7)\n",
    "\n",
    "plt.tight_layout()\n",
    "plt.show()"
   ]
  },
  {
   "cell_type": "code",
   "execution_count": null,
   "id": "c75e7468",
   "metadata": {},
   "outputs": [],
   "source": [
    "df['date_added'] = pd.to_datetime(df['date_added'])\n",
    "\n",
    "df['year_added'] = df['date_added'].dt.year\n",
    "\n",
    "df.dropna(subset=['year_added'], inplace=True)\n",
    "df['year_added'] = df['year_added'].astype(int)\n",
    "\n",
    "additions_by_year = df['year_added'].value_counts().sort_index()\n",
    "\n",
    "plt.figure(figsize=(12, 6))\n",
    "plt.plot(additions_by_year.index, additions_by_year.values, marker='o', linestyle='-', color='skyblue')\n",
    "\n",
    "plt.title('Andamento Annuale delle Aggiunte di Contenuti su Netflix', fontsize=16)\n",
    "plt.xlabel('Anno', fontsize=12)\n",
    "plt.ylabel('Numero di Contenuti Aggiunti', fontsize=12)\n",
    "\n",
    "plt.xticks(additions_by_year.index, rotation=45, ha='right')\n",
    "\n",
    "plt.grid(True, linestyle='--', alpha=0.7)\n",
    "plt.tight_layout()\n",
    "plt.show()"
   ]
  },
  {
   "cell_type": "code",
   "execution_count": null,
   "id": "f606009e",
   "metadata": {},
   "outputs": [],
   "source": []
  }
 ],
 "metadata": {
  "kernelspec": {
   "display_name": "Python 3",
   "language": "python",
   "name": "python3"
  },
  "language_info": {
   "codemirror_mode": {
    "name": "ipython",
    "version": 3
   },
   "file_extension": ".py",
   "mimetype": "text/x-python",
   "name": "python",
   "nbconvert_exporter": "python",
   "pygments_lexer": "ipython3",
   "version": "3.11.9"
  }
 },
 "nbformat": 4,
 "nbformat_minor": 5
}
